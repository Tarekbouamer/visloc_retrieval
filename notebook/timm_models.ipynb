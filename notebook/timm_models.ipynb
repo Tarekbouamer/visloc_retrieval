{
 "cells": [
  {
   "cell_type": "markdown",
   "metadata": {},
   "source": [
    "This notebook helps to choose best model to train on."
   ]
  },
  {
   "cell_type": "code",
   "execution_count": 1,
   "metadata": {},
   "outputs": [
    {
     "name": "stdout",
     "output_type": "stream",
     "text": [
      "conda_requirements.txt  LICENSE                        setup.py\n",
      "\u001b[0m\u001b[01;34mcore\u001b[0m/                   \u001b[01;32mMANIFEST.in\u001b[0m*                   timm_models.ipynb\n",
      "\u001b[01;34mexperiments\u001b[0m/            README.md                      timm_models.log\n",
      "\u001b[01;34mimage_retrieval\u001b[0m/        \u001b[01;34mscripts\u001b[0m/                       _version.py\n",
      "\u001b[01;32m__init__.py\u001b[0m*            search_timm_models_resnet.csv\n"
     ]
    }
   ],
   "source": [
    "import sys\n",
    "sys.path.append(\"../asmk\")\n",
    "%ls"
   ]
  },
  {
   "cell_type": "code",
   "execution_count": 2,
   "metadata": {},
   "outputs": [
    {
     "name": "stderr",
     "output_type": "stream",
     "text": [
      "/home/dl/miniconda3/envs/loc/lib/python3.7/site-packages/tqdm/auto.py:22: TqdmWarning: IProgress not found. Please update jupyter and ipywidgets. See https://ipywidgets.readthedocs.io/en/stable/user_install.html\n",
      "  from .autonotebook import tqdm as notebook_tqdm\n"
     ]
    }
   ],
   "source": [
    "# General\n",
    "import argparse\n",
    "from random import sample\n",
    "import shutil\n",
    "import numpy as np\n",
    "from tqdm import tqdm\n",
    "import csv\n",
    "import logging\n",
    "\n",
    "# Torch\n",
    "import torch\n",
    "import torch.nn as nn\n",
    "import torch.optim as optim\n",
    "\n",
    "# Timm\n",
    "import timm \n",
    "\n",
    "# Core\n",
    "from core.utils.configurations              import make_config, config_to_string\n",
    "\n",
    "# Image Retrieval\n",
    "from image_retrieval.utils.io               import create_experiment_file_from_cfg , create_experiment_file\n",
    "from image_retrieval.configuration          import DEFAULTS as DEFAULT_CONFIGS\n",
    "from image_retrieval.tools                  import make_dataloader, make_model, compute_PCA_layer, get_data_sample\n",
    "from image_retrieval.tools                  import train, validate, test\n",
    "from image_retrieval.modules.heads.head     import globalHead\n",
    "from image_retrieval.models.GF_net          import ImageRetrievalNet"
   ]
  },
  {
   "cell_type": "code",
   "execution_count": 3,
   "metadata": {},
   "outputs": [],
   "source": [
    "# Parameters\n",
    "class Parameters:\n",
    "    config_path     = \"./image_retrieval/configuration/defaults/search_timm_models.ini\"\n",
    "    directory       = \"./experiments/\"\n",
    "    data            = \"/media/dl/Data/datasets/\"\n",
    "    models_family   = \"resnet\"\n",
    "\n",
    "params = Parameters() "
   ]
  },
  {
   "cell_type": "code",
   "execution_count": 4,
   "metadata": {},
   "outputs": [],
   "source": [
    "# Logging\n",
    "import logging\n",
    "logging.basicConfig(format='%(asctime)s | %(levelname)s : %(message)s',\n",
    "                     level=logging.INFO, stream=sys.stdout)\n",
    "logger = logging.getLogger(__name__)\n",
    "logger.setLevel(logging.DEBUG)"
   ]
  },
  {
   "cell_type": "code",
   "execution_count": 5,
   "metadata": {},
   "outputs": [
    {
     "name": "stdout",
     "output_type": "stream",
     "text": [
      "2022-08-29 18:29:54,525 | INFO : Loading configuration from ./image_retrieval/configuration/defaults/search_timm_models.ini\n",
      "2022-08-29 18:29:54,527 | INFO : \n",
      "[general]\n",
      "gpu_id = 0\n",
      "\n",
      "[body]\n",
      "arch = resnet50\n",
      "pretrained = True\n",
      "features_scales = [1, 2, 3, 4]\n",
      "\n",
      "[global]\n",
      "pooling = {\"name\": \"GeM\", \"params\": {\"p\":3, \"eps\": 1e-6}}\n",
      "type = linear\n",
      "whithening = True\n",
      "reduction = False\n",
      "num_samples = 5000\n",
      "update = True\n",
      "\n",
      "[dataloader]\n",
      "dataset = retrieval-SfM-120k\n",
      "neg_num = 5\n",
      "query_size = 2000\n",
      "pool_size = 20000\n",
      "min_size = 200\n",
      "max_size = 1024\n",
      "batch_size = 5\n",
      "num_workers = 14\n",
      "\n",
      "[augmentaion]\n",
      "use_prefetcher = False\n",
      "no_aug = False\n",
      "scale = (0.8, 1.2)\n",
      "ratio = (0.75, 1.33)\n",
      "hflip = 0.4\n",
      "vflip = 0.4\n",
      "color_jitter = 0.4\n",
      "auto_augment = rand-m5-n3-mstd0.2\n",
      "interpolation = bilinear\n",
      "mean = (0.485, 0.456, 0.406)\n",
      "std = (0.229, 0.224, 0.225)\n",
      "re_prob = 0.25\n",
      "re_mode = pixel\n",
      "re_count = 1\n",
      "re_num_splits = 0\n",
      "crop_pct = None\n",
      "tf_preprocessing = False\n",
      "separate = True\n",
      "\n",
      "[test]\n",
      "datasets = [\"roxford5k\"]\n",
      "batch_size = 1\n",
      "min_size = 200\n",
      "max_size = 1024\n",
      "num_workers = 14\n",
      "mode = global_descriptor\n",
      "multi_scale = False\n",
      "\n",
      "\n",
      "2022-08-29 18:29:54,528 | INFO : \n",
      "[general]\n",
      "gpu_id = 0\n",
      "\n",
      "[body]\n",
      "arch = resnet50\n",
      "pretrained = True\n",
      "features_scales = [1, 2, 3, 4]\n",
      "\n",
      "[global]\n",
      "pooling = {\"name\": \"GeM\", \"params\": {\"p\":3, \"eps\": 1e-6}}\n",
      "type = linear\n",
      "whithening = True\n",
      "reduction = False\n",
      "num_samples = 5000\n",
      "update = True\n",
      "\n",
      "[dataloader]\n",
      "dataset = retrieval-SfM-120k\n",
      "neg_num = 5\n",
      "query_size = 2000\n",
      "pool_size = 20000\n",
      "min_size = 200\n",
      "max_size = 1024\n",
      "batch_size = 5\n",
      "num_workers = 14\n",
      "\n",
      "[augmentaion]\n",
      "use_prefetcher = False\n",
      "no_aug = False\n",
      "scale = (0.8, 1.2)\n",
      "ratio = (0.75, 1.33)\n",
      "hflip = 0.4\n",
      "vflip = 0.4\n",
      "color_jitter = 0.4\n",
      "auto_augment = rand-m5-n3-mstd0.2\n",
      "interpolation = bilinear\n",
      "mean = (0.485, 0.456, 0.406)\n",
      "std = (0.229, 0.224, 0.225)\n",
      "re_prob = 0.25\n",
      "re_mode = pixel\n",
      "re_count = 1\n",
      "re_num_splits = 0\n",
      "crop_pct = None\n",
      "tf_preprocessing = False\n",
      "separate = True\n",
      "\n",
      "[test]\n",
      "datasets = [\"roxford5k\"]\n",
      "batch_size = 1\n",
      "min_size = 200\n",
      "max_size = 1024\n",
      "num_workers = 14\n",
      "mode = global_descriptor\n",
      "multi_scale = False\n",
      "\n",
      "\n",
      "2022-08-29 18:29:54,531 | DEBUG : Creating dataloaders for dataset in /media/dl/Data/datasets/\n",
      "2022-08-29 18:29:54,771 | DEBUG : Sample dataset  5000\n",
      "2022-08-29 18:29:54,833 | INFO : 44 resnet model found \n",
      "2022-08-29 18:29:54,834 | INFO : Creating backbone model: resnet18  with features_scales: [1, 2, 3, 4]\n",
      "2022-08-29 18:29:54,941 | INFO : Loading pretrained weights from url (https://download.pytorch.org/models/resnet18-5c106cde.pth)\n",
      "2022-08-29 18:29:55,022 | DEBUG : Body channels: [64, 128, 256, 512]    Reductions: [4, 8, 16, 32]      Layer_names: ['layer1', 'layer2', 'layer3', 'layer4']\n",
      "2022-08-29 18:29:55,028 | DEBUG : Whithening Not computed before or an update is required: ./experiments/whithen/global_retrieval-SfM-120k_resnet18_L4_DNone_Size1024.pth \n",
      "2022-08-29 18:29:55,028 | DEBUG : Compute whitening { global }\n",
      "2022-08-29 18:29:56,748 | DEBUG : Extracting descriptors for PCA {512}--{512} for {5000}:\n"
     ]
    },
    {
     "name": "stderr",
     "output_type": "stream",
     "text": [
      "100%|██████████| 5000/5000 [00:39<00:00, 126.16it/s]"
     ]
    },
    {
     "name": "stdout",
     "output_type": "stream",
     "text": [
      "2022-08-29 18:30:36,886 | DEBUG : Compute PCA, Takes a while\n"
     ]
    },
    {
     "name": "stderr",
     "output_type": "stream",
     "text": [
      "\n"
     ]
    },
    {
     "name": "stdout",
     "output_type": "stream",
     "text": [
      "2022-08-29 18:30:37,149 | DEBUG : Load : ./experiments/whithen/global_retrieval-SfM-120k_resnet18_L4_DNone_Size1024.pth \n",
      "2022-08-29 18:30:37,151 | INFO : Evaluate model { resnet18 }\n",
      "2022-08-29 18:30:37,152 | DEBUG : Evaluating network on test datasets { global_descriptor }\n",
      "2022-08-29 18:30:37,153 | DEBUG : Test scales {[1.0]}\n",
      "2022-08-29 18:30:37,153 | DEBUG : {roxford5k}: Loading Dataset\n",
      "2022-08-29 18:30:37,161 | DEBUG : {roxford5k}: Extracting descriptors for query images\n"
     ]
    },
    {
     "name": "stderr",
     "output_type": "stream",
     "text": [
      "100%|██████████| 70/70 [00:00<00:00, 124.65it/s]"
     ]
    },
    {
     "name": "stdout",
     "output_type": "stream",
     "text": [
      "2022-08-29 18:30:38,436 | DEBUG : {roxford5k}: Extracting descriptors for database images\n"
     ]
    },
    {
     "name": "stderr",
     "output_type": "stream",
     "text": [
      "\n",
      "100%|██████████| 4993/4993 [00:39<00:00, 127.39it/s]\n"
     ]
    },
    {
     "name": "stdout",
     "output_type": "stream",
     "text": [
      "2022-08-29 18:31:18,565 | INFO : {roxford5k}: mAP E: {34.730000}, M: {24.220000}, H: {7.110000}\n",
      "2022-08-29 18:31:18,566 | INFO : {roxford5k}: mP@k{1.000000} E: {58.820000}, M: {57.140000}, H: {27.140000}\n",
      "2022-08-29 18:31:18,566 | INFO : {roxford5k}: mP@k{5.000000} E: {52.350000}, M: {49.520000}, H: {14.710000}\n",
      "2022-08-29 18:31:18,567 | INFO : {roxford5k}: mP@k{10.000000} E: {48.380000}, M: {44.570000}, H: {12.710000}\n",
      "2022-08-29 18:31:18,567 | INFO : Average score = 22.02\n",
      "2022-08-29 18:31:18,568 | INFO : Creating backbone model: resnet18d  with features_scales: [1, 2, 3, 4]\n",
      "2022-08-29 18:31:18,688 | INFO : Loading pretrained weights from url (https://github.com/rwightman/pytorch-image-models/releases/download/v0.1-weights/resnet18d_ra2-48a79e06.pth)\n"
     ]
    },
    {
     "name": "stderr",
     "output_type": "stream",
     "text": [
      "Downloading: \"https://github.com/rwightman/pytorch-image-models/releases/download/v0.1-weights/resnet18d_ra2-48a79e06.pth\" to /home/dl/.cache/torch/hub/checkpoints/resnet18d_ra2-48a79e06.pth\n"
     ]
    },
    {
     "name": "stdout",
     "output_type": "stream",
     "text": [
      "2022-08-29 18:31:23,802 | DEBUG : Body channels: [64, 128, 256, 512]    Reductions: [4, 8, 16, 32]      Layer_names: ['layer1', 'layer2', 'layer3', 'layer4']\n",
      "2022-08-29 18:31:23,806 | DEBUG : Whithening Not computed before or an update is required: ./experiments/whithen/global_retrieval-SfM-120k_resnet18d_L4_DNone_Size1024.pth \n",
      "2022-08-29 18:31:23,807 | DEBUG : Compute whitening { global }\n",
      "2022-08-29 18:31:23,882 | DEBUG : Extracting descriptors for PCA {512}--{512} for {5000}:\n"
     ]
    },
    {
     "name": "stderr",
     "output_type": "stream",
     "text": [
      "100%|██████████| 5000/5000 [00:44<00:00, 113.12it/s]"
     ]
    },
    {
     "name": "stdout",
     "output_type": "stream",
     "text": [
      "2022-08-29 18:32:08,827 | DEBUG : Compute PCA, Takes a while\n"
     ]
    },
    {
     "name": "stderr",
     "output_type": "stream",
     "text": [
      "\n"
     ]
    },
    {
     "name": "stdout",
     "output_type": "stream",
     "text": [
      "2022-08-29 18:32:09,052 | DEBUG : Load : ./experiments/whithen/global_retrieval-SfM-120k_resnet18d_L4_DNone_Size1024.pth \n",
      "2022-08-29 18:32:09,054 | INFO : Evaluate model { resnet18d }\n",
      "2022-08-29 18:32:09,055 | DEBUG : Evaluating network on test datasets { global_descriptor }\n",
      "2022-08-29 18:32:09,055 | DEBUG : Test scales {[1.0]}\n",
      "2022-08-29 18:32:09,056 | DEBUG : {roxford5k}: Loading Dataset\n",
      "2022-08-29 18:32:09,061 | DEBUG : {roxford5k}: Extracting descriptors for query images\n"
     ]
    },
    {
     "name": "stderr",
     "output_type": "stream",
     "text": [
      "100%|██████████| 70/70 [00:00<00:00, 120.93it/s]"
     ]
    },
    {
     "name": "stdout",
     "output_type": "stream",
     "text": [
      "2022-08-29 18:32:10,386 | DEBUG : {roxford5k}: Extracting descriptors for database images\n"
     ]
    },
    {
     "name": "stderr",
     "output_type": "stream",
     "text": [
      "\n",
      "  3%|▎         | 142/4993 [00:01<00:49, 97.07it/s] \n"
     ]
    },
    {
     "ename": "KeyboardInterrupt",
     "evalue": "",
     "output_type": "error",
     "traceback": [
      "\u001b[0;31m---------------------------------------------------------------------------\u001b[0m",
      "\u001b[0;31mKeyboardInterrupt\u001b[0m                         Traceback (most recent call last)",
      "\u001b[0;32m/tmp/ipykernel_49091/2253957396.py\u001b[0m in \u001b[0;36m<module>\u001b[0;34m\u001b[0m\n\u001b[1;32m    125\u001b[0m                             \u001b[0mout_dim\u001b[0m\u001b[0;34m=\u001b[0m\u001b[0mout_dim\u001b[0m\u001b[0;34m,\u001b[0m\u001b[0;34m\u001b[0m\u001b[0;34m\u001b[0m\u001b[0m\n\u001b[1;32m    126\u001b[0m                             \u001b[0mdevice\u001b[0m\u001b[0;34m=\u001b[0m\u001b[0mdevice\u001b[0m\u001b[0;34m,\u001b[0m\u001b[0;34m\u001b[0m\u001b[0;34m\u001b[0m\u001b[0m\n\u001b[0;32m--> 127\u001b[0;31m                             logger=logger)\n\u001b[0m\u001b[1;32m    128\u001b[0m \u001b[0;34m\u001b[0m\u001b[0m\n\u001b[1;32m    129\u001b[0m \u001b[0;34m\u001b[0m\u001b[0m\n",
      "\u001b[0;32m~/3D/visloc_retrieval/image_retrieval/tools/test.py\u001b[0m in \u001b[0;36mtest\u001b[0;34m(args, config, model, rank, world_size, logger, **varargs)\u001b[0m\n\u001b[1;32m    237\u001b[0m \u001b[0;34m\u001b[0m\u001b[0m\n\u001b[1;32m    238\u001b[0m     \u001b[0;32mif\u001b[0m \u001b[0mmode\u001b[0m \u001b[0;34m==\u001b[0m \u001b[0;34m\"global_descriptor\"\u001b[0m\u001b[0;34m:\u001b[0m\u001b[0;34m\u001b[0m\u001b[0;34m\u001b[0m\u001b[0m\n\u001b[0;32m--> 239\u001b[0;31m         \u001b[0mscores\u001b[0m\u001b[0;34m,\u001b[0m \u001b[0mavg_score\u001b[0m \u001b[0;34m=\u001b[0m \u001b[0mtest_global\u001b[0m\u001b[0;34m(\u001b[0m\u001b[0margs\u001b[0m\u001b[0;34m,\u001b[0m \u001b[0mconfig\u001b[0m\u001b[0;34m,\u001b[0m  \u001b[0mmodel\u001b[0m\u001b[0;34m,\u001b[0m \u001b[0mlist_datasets\u001b[0m\u001b[0;34m,\u001b[0m \u001b[0mlogger\u001b[0m\u001b[0;34m=\u001b[0m\u001b[0mlogger\u001b[0m\u001b[0;34m,\u001b[0m \u001b[0;34m**\u001b[0m\u001b[0mvarargs\u001b[0m\u001b[0;34m)\u001b[0m\u001b[0;34m\u001b[0m\u001b[0;34m\u001b[0m\u001b[0m\n\u001b[0m\u001b[1;32m    240\u001b[0m \u001b[0;34m\u001b[0m\u001b[0m\n\u001b[1;32m    241\u001b[0m     \u001b[0;32melif\u001b[0m \u001b[0mmode\u001b[0m \u001b[0;34m==\u001b[0m \u001b[0;34m\"ASMK\"\u001b[0m\u001b[0;34m:\u001b[0m\u001b[0;34m\u001b[0m\u001b[0;34m\u001b[0m\u001b[0m\n",
      "\u001b[0;32m~/3D/visloc_retrieval/image_retrieval/tools/test.py\u001b[0m in \u001b[0;36mtest_global\u001b[0;34m(args, config, model, list_datasets, logger, **varargs)\u001b[0m\n\u001b[1;32m    107\u001b[0m                 \u001b[0mbatch\u001b[0m \u001b[0;34m=\u001b[0m \u001b[0;34m{\u001b[0m\u001b[0mk\u001b[0m\u001b[0;34m:\u001b[0m \u001b[0mbatch\u001b[0m\u001b[0;34m[\u001b[0m\u001b[0mk\u001b[0m\u001b[0;34m]\u001b[0m\u001b[0;34m.\u001b[0m\u001b[0mcuda\u001b[0m\u001b[0;34m(\u001b[0m\u001b[0mdevice\u001b[0m\u001b[0;34m=\u001b[0m\u001b[0mvarargs\u001b[0m\u001b[0;34m[\u001b[0m\u001b[0;34m\"device\"\u001b[0m\u001b[0;34m]\u001b[0m\u001b[0;34m,\u001b[0m \u001b[0mnon_blocking\u001b[0m\u001b[0;34m=\u001b[0m\u001b[0;32mTrue\u001b[0m\u001b[0;34m)\u001b[0m \u001b[0;32mfor\u001b[0m \u001b[0mk\u001b[0m \u001b[0;32min\u001b[0m \u001b[0mINPUTS\u001b[0m\u001b[0;34m}\u001b[0m\u001b[0;34m\u001b[0m\u001b[0;34m\u001b[0m\u001b[0m\n\u001b[1;32m    108\u001b[0m \u001b[0;34m\u001b[0m\u001b[0m\n\u001b[0;32m--> 109\u001b[0;31m                 \u001b[0mpred\u001b[0m \u001b[0;34m=\u001b[0m \u001b[0mmodel\u001b[0m\u001b[0;34m(\u001b[0m\u001b[0;34m**\u001b[0m\u001b[0mbatch\u001b[0m\u001b[0;34m,\u001b[0m \u001b[0mscales\u001b[0m\u001b[0;34m=\u001b[0m\u001b[0mscales\u001b[0m\u001b[0;34m,\u001b[0m \u001b[0mdo_whitening\u001b[0m\u001b[0;34m=\u001b[0m\u001b[0;32mTrue\u001b[0m\u001b[0;34m)\u001b[0m\u001b[0;34m\u001b[0m\u001b[0;34m\u001b[0m\u001b[0m\n\u001b[0m\u001b[1;32m    110\u001b[0m \u001b[0;34m\u001b[0m\u001b[0m\n\u001b[1;32m    111\u001b[0m                 \u001b[0;31m# append\u001b[0m\u001b[0;34m\u001b[0m\u001b[0;34m\u001b[0m\u001b[0;34m\u001b[0m\u001b[0m\n",
      "\u001b[0;32m~/miniconda3/envs/loc/lib/python3.7/site-packages/torch/nn/modules/module.py\u001b[0m in \u001b[0;36m_call_impl\u001b[0;34m(self, *input, **kwargs)\u001b[0m\n\u001b[1;32m   1128\u001b[0m         if not (self._backward_hooks or self._forward_hooks or self._forward_pre_hooks or _global_backward_hooks\n\u001b[1;32m   1129\u001b[0m                 or _global_forward_hooks or _global_forward_pre_hooks):\n\u001b[0;32m-> 1130\u001b[0;31m             \u001b[0;32mreturn\u001b[0m \u001b[0mforward_call\u001b[0m\u001b[0;34m(\u001b[0m\u001b[0;34m*\u001b[0m\u001b[0minput\u001b[0m\u001b[0;34m,\u001b[0m \u001b[0;34m**\u001b[0m\u001b[0mkwargs\u001b[0m\u001b[0;34m)\u001b[0m\u001b[0;34m\u001b[0m\u001b[0;34m\u001b[0m\u001b[0m\n\u001b[0m\u001b[1;32m   1131\u001b[0m         \u001b[0;31m# Do not call functions when jit is used\u001b[0m\u001b[0;34m\u001b[0m\u001b[0;34m\u001b[0m\u001b[0;34m\u001b[0m\u001b[0m\n\u001b[1;32m   1132\u001b[0m         \u001b[0mfull_backward_hooks\u001b[0m\u001b[0;34m,\u001b[0m \u001b[0mnon_full_backward_hooks\u001b[0m \u001b[0;34m=\u001b[0m \u001b[0;34m[\u001b[0m\u001b[0;34m]\u001b[0m\u001b[0;34m,\u001b[0m \u001b[0;34m[\u001b[0m\u001b[0;34m]\u001b[0m\u001b[0;34m\u001b[0m\u001b[0;34m\u001b[0m\u001b[0m\n",
      "\u001b[0;32m~/3D/visloc_retrieval/image_retrieval/models/GF_net.py\u001b[0m in \u001b[0;36mforward\u001b[0;34m(self, img, scales, do_whitening, do_local, **varargs)\u001b[0m\n\u001b[1;32m    177\u001b[0m \u001b[0;34m\u001b[0m\u001b[0m\n\u001b[1;32m    178\u001b[0m         \u001b[0;31m# Run network body\u001b[0m\u001b[0;34m\u001b[0m\u001b[0;34m\u001b[0m\u001b[0;34m\u001b[0m\u001b[0m\n\u001b[0;32m--> 179\u001b[0;31m         \u001b[0mfeatures\u001b[0m\u001b[0;34m,\u001b[0m \u001b[0mimg_sizes\u001b[0m \u001b[0;34m=\u001b[0m \u001b[0mself\u001b[0m\u001b[0;34m.\u001b[0m\u001b[0mextract_body_features\u001b[0m\u001b[0;34m(\u001b[0m\u001b[0mimg\u001b[0m\u001b[0;34m,\u001b[0m \u001b[0mscales\u001b[0m\u001b[0;34m=\u001b[0m\u001b[0mscales\u001b[0m\u001b[0;34m)\u001b[0m\u001b[0;34m\u001b[0m\u001b[0;34m\u001b[0m\u001b[0m\n\u001b[0m\u001b[1;32m    180\u001b[0m \u001b[0;34m\u001b[0m\u001b[0m\n\u001b[1;32m    181\u001b[0m         \u001b[0;31m# Run head\u001b[0m\u001b[0;34m\u001b[0m\u001b[0;34m\u001b[0m\u001b[0;34m\u001b[0m\u001b[0m\n",
      "\u001b[0;32m~/3D/visloc_retrieval/image_retrieval/models/GF_net.py\u001b[0m in \u001b[0;36mextract_body_features\u001b[0;34m(self, img, scales)\u001b[0m\n\u001b[1;32m    122\u001b[0m \u001b[0;34m\u001b[0m\u001b[0m\n\u001b[1;32m    123\u001b[0m             \u001b[0;31m# body\u001b[0m\u001b[0;34m\u001b[0m\u001b[0;34m\u001b[0m\u001b[0;34m\u001b[0m\u001b[0m\n\u001b[0;32m--> 124\u001b[0;31m             \u001b[0mx\u001b[0m \u001b[0;34m=\u001b[0m \u001b[0mself\u001b[0m\u001b[0;34m.\u001b[0m\u001b[0mbody\u001b[0m\u001b[0;34m(\u001b[0m\u001b[0ms_img\u001b[0m\u001b[0;34m)\u001b[0m\u001b[0;34m\u001b[0m\u001b[0;34m\u001b[0m\u001b[0m\n\u001b[0m\u001b[1;32m    125\u001b[0m \u001b[0;34m\u001b[0m\u001b[0m\n\u001b[1;32m    126\u001b[0m             \u001b[0;31m# features level, last\u001b[0m\u001b[0;34m\u001b[0m\u001b[0;34m\u001b[0m\u001b[0;34m\u001b[0m\u001b[0m\n",
      "\u001b[0;32m~/miniconda3/envs/loc/lib/python3.7/site-packages/torch/nn/modules/module.py\u001b[0m in \u001b[0;36m_call_impl\u001b[0;34m(self, *input, **kwargs)\u001b[0m\n\u001b[1;32m   1128\u001b[0m         if not (self._backward_hooks or self._forward_hooks or self._forward_pre_hooks or _global_backward_hooks\n\u001b[1;32m   1129\u001b[0m                 or _global_forward_hooks or _global_forward_pre_hooks):\n\u001b[0;32m-> 1130\u001b[0;31m             \u001b[0;32mreturn\u001b[0m \u001b[0mforward_call\u001b[0m\u001b[0;34m(\u001b[0m\u001b[0;34m*\u001b[0m\u001b[0minput\u001b[0m\u001b[0;34m,\u001b[0m \u001b[0;34m**\u001b[0m\u001b[0mkwargs\u001b[0m\u001b[0;34m)\u001b[0m\u001b[0;34m\u001b[0m\u001b[0;34m\u001b[0m\u001b[0m\n\u001b[0m\u001b[1;32m   1131\u001b[0m         \u001b[0;31m# Do not call functions when jit is used\u001b[0m\u001b[0;34m\u001b[0m\u001b[0;34m\u001b[0m\u001b[0;34m\u001b[0m\u001b[0m\n\u001b[1;32m   1132\u001b[0m         \u001b[0mfull_backward_hooks\u001b[0m\u001b[0;34m,\u001b[0m \u001b[0mnon_full_backward_hooks\u001b[0m \u001b[0;34m=\u001b[0m \u001b[0;34m[\u001b[0m\u001b[0;34m]\u001b[0m\u001b[0;34m,\u001b[0m \u001b[0;34m[\u001b[0m\u001b[0;34m]\u001b[0m\u001b[0;34m\u001b[0m\u001b[0;34m\u001b[0m\u001b[0m\n",
      "\u001b[0;32m~/miniconda3/envs/loc/lib/python3.7/site-packages/timm/models/features.py\u001b[0m in \u001b[0;36mforward\u001b[0;34m(self, x)\u001b[0m\n\u001b[1;32m    230\u001b[0m \u001b[0;34m\u001b[0m\u001b[0m\n\u001b[1;32m    231\u001b[0m     \u001b[0;32mdef\u001b[0m \u001b[0mforward\u001b[0m\u001b[0;34m(\u001b[0m\u001b[0mself\u001b[0m\u001b[0;34m,\u001b[0m \u001b[0mx\u001b[0m\u001b[0;34m)\u001b[0m \u001b[0;34m->\u001b[0m \u001b[0;34m(\u001b[0m\u001b[0mList\u001b[0m\u001b[0;34m[\u001b[0m\u001b[0mtorch\u001b[0m\u001b[0;34m.\u001b[0m\u001b[0mTensor\u001b[0m\u001b[0;34m]\u001b[0m\u001b[0;34m)\u001b[0m\u001b[0;34m:\u001b[0m\u001b[0;34m\u001b[0m\u001b[0;34m\u001b[0m\u001b[0m\n\u001b[0;32m--> 232\u001b[0;31m         \u001b[0;32mreturn\u001b[0m \u001b[0mlist\u001b[0m\u001b[0;34m(\u001b[0m\u001b[0mself\u001b[0m\u001b[0;34m.\u001b[0m\u001b[0m_collect\u001b[0m\u001b[0;34m(\u001b[0m\u001b[0mx\u001b[0m\u001b[0;34m)\u001b[0m\u001b[0;34m.\u001b[0m\u001b[0mvalues\u001b[0m\u001b[0;34m(\u001b[0m\u001b[0;34m)\u001b[0m\u001b[0;34m)\u001b[0m\u001b[0;34m\u001b[0m\u001b[0;34m\u001b[0m\u001b[0m\n\u001b[0m\u001b[1;32m    233\u001b[0m \u001b[0;34m\u001b[0m\u001b[0m\n\u001b[1;32m    234\u001b[0m \u001b[0;34m\u001b[0m\u001b[0m\n",
      "\u001b[0;32m~/miniconda3/envs/loc/lib/python3.7/site-packages/timm/models/features.py\u001b[0m in \u001b[0;36m_collect\u001b[0;34m(self, x)\u001b[0m\n\u001b[1;32m    201\u001b[0m         \u001b[0mout\u001b[0m \u001b[0;34m=\u001b[0m \u001b[0mOrderedDict\u001b[0m\u001b[0;34m(\u001b[0m\u001b[0;34m)\u001b[0m\u001b[0;34m\u001b[0m\u001b[0;34m\u001b[0m\u001b[0m\n\u001b[1;32m    202\u001b[0m         \u001b[0;32mfor\u001b[0m \u001b[0mname\u001b[0m\u001b[0;34m,\u001b[0m \u001b[0mmodule\u001b[0m \u001b[0;32min\u001b[0m \u001b[0mself\u001b[0m\u001b[0;34m.\u001b[0m\u001b[0mitems\u001b[0m\u001b[0;34m(\u001b[0m\u001b[0;34m)\u001b[0m\u001b[0;34m:\u001b[0m\u001b[0;34m\u001b[0m\u001b[0;34m\u001b[0m\u001b[0m\n\u001b[0;32m--> 203\u001b[0;31m             \u001b[0mx\u001b[0m \u001b[0;34m=\u001b[0m \u001b[0mmodule\u001b[0m\u001b[0;34m(\u001b[0m\u001b[0mx\u001b[0m\u001b[0;34m)\u001b[0m\u001b[0;34m\u001b[0m\u001b[0;34m\u001b[0m\u001b[0m\n\u001b[0m\u001b[1;32m    204\u001b[0m             \u001b[0;32mif\u001b[0m \u001b[0mname\u001b[0m \u001b[0;32min\u001b[0m \u001b[0mself\u001b[0m\u001b[0;34m.\u001b[0m\u001b[0mreturn_layers\u001b[0m\u001b[0;34m:\u001b[0m\u001b[0;34m\u001b[0m\u001b[0;34m\u001b[0m\u001b[0m\n\u001b[1;32m    205\u001b[0m                 \u001b[0mout_id\u001b[0m \u001b[0;34m=\u001b[0m \u001b[0mself\u001b[0m\u001b[0;34m.\u001b[0m\u001b[0mreturn_layers\u001b[0m\u001b[0;34m[\u001b[0m\u001b[0mname\u001b[0m\u001b[0;34m]\u001b[0m\u001b[0;34m\u001b[0m\u001b[0;34m\u001b[0m\u001b[0m\n",
      "\u001b[0;32m~/miniconda3/envs/loc/lib/python3.7/site-packages/torch/nn/modules/module.py\u001b[0m in \u001b[0;36m_call_impl\u001b[0;34m(self, *input, **kwargs)\u001b[0m\n\u001b[1;32m   1128\u001b[0m         if not (self._backward_hooks or self._forward_hooks or self._forward_pre_hooks or _global_backward_hooks\n\u001b[1;32m   1129\u001b[0m                 or _global_forward_hooks or _global_forward_pre_hooks):\n\u001b[0;32m-> 1130\u001b[0;31m             \u001b[0;32mreturn\u001b[0m \u001b[0mforward_call\u001b[0m\u001b[0;34m(\u001b[0m\u001b[0;34m*\u001b[0m\u001b[0minput\u001b[0m\u001b[0;34m,\u001b[0m \u001b[0;34m**\u001b[0m\u001b[0mkwargs\u001b[0m\u001b[0;34m)\u001b[0m\u001b[0;34m\u001b[0m\u001b[0;34m\u001b[0m\u001b[0m\n\u001b[0m\u001b[1;32m   1131\u001b[0m         \u001b[0;31m# Do not call functions when jit is used\u001b[0m\u001b[0;34m\u001b[0m\u001b[0;34m\u001b[0m\u001b[0;34m\u001b[0m\u001b[0m\n\u001b[1;32m   1132\u001b[0m         \u001b[0mfull_backward_hooks\u001b[0m\u001b[0;34m,\u001b[0m \u001b[0mnon_full_backward_hooks\u001b[0m \u001b[0;34m=\u001b[0m \u001b[0;34m[\u001b[0m\u001b[0;34m]\u001b[0m\u001b[0;34m,\u001b[0m \u001b[0;34m[\u001b[0m\u001b[0;34m]\u001b[0m\u001b[0;34m\u001b[0m\u001b[0;34m\u001b[0m\u001b[0m\n",
      "\u001b[0;32m~/miniconda3/envs/loc/lib/python3.7/site-packages/torch/nn/modules/container.py\u001b[0m in \u001b[0;36mforward\u001b[0;34m(self, input)\u001b[0m\n\u001b[1;32m    137\u001b[0m     \u001b[0;32mdef\u001b[0m \u001b[0mforward\u001b[0m\u001b[0;34m(\u001b[0m\u001b[0mself\u001b[0m\u001b[0;34m,\u001b[0m \u001b[0minput\u001b[0m\u001b[0;34m)\u001b[0m\u001b[0;34m:\u001b[0m\u001b[0;34m\u001b[0m\u001b[0;34m\u001b[0m\u001b[0m\n\u001b[1;32m    138\u001b[0m         \u001b[0;32mfor\u001b[0m \u001b[0mmodule\u001b[0m \u001b[0;32min\u001b[0m \u001b[0mself\u001b[0m\u001b[0;34m:\u001b[0m\u001b[0;34m\u001b[0m\u001b[0;34m\u001b[0m\u001b[0m\n\u001b[0;32m--> 139\u001b[0;31m             \u001b[0minput\u001b[0m \u001b[0;34m=\u001b[0m \u001b[0mmodule\u001b[0m\u001b[0;34m(\u001b[0m\u001b[0minput\u001b[0m\u001b[0;34m)\u001b[0m\u001b[0;34m\u001b[0m\u001b[0;34m\u001b[0m\u001b[0m\n\u001b[0m\u001b[1;32m    140\u001b[0m         \u001b[0;32mreturn\u001b[0m \u001b[0minput\u001b[0m\u001b[0;34m\u001b[0m\u001b[0;34m\u001b[0m\u001b[0m\n\u001b[1;32m    141\u001b[0m \u001b[0;34m\u001b[0m\u001b[0m\n",
      "\u001b[0;32m~/miniconda3/envs/loc/lib/python3.7/site-packages/torch/nn/modules/module.py\u001b[0m in \u001b[0;36m_call_impl\u001b[0;34m(self, *input, **kwargs)\u001b[0m\n\u001b[1;32m   1128\u001b[0m         if not (self._backward_hooks or self._forward_hooks or self._forward_pre_hooks or _global_backward_hooks\n\u001b[1;32m   1129\u001b[0m                 or _global_forward_hooks or _global_forward_pre_hooks):\n\u001b[0;32m-> 1130\u001b[0;31m             \u001b[0;32mreturn\u001b[0m \u001b[0mforward_call\u001b[0m\u001b[0;34m(\u001b[0m\u001b[0;34m*\u001b[0m\u001b[0minput\u001b[0m\u001b[0;34m,\u001b[0m \u001b[0;34m**\u001b[0m\u001b[0mkwargs\u001b[0m\u001b[0;34m)\u001b[0m\u001b[0;34m\u001b[0m\u001b[0;34m\u001b[0m\u001b[0m\n\u001b[0m\u001b[1;32m   1131\u001b[0m         \u001b[0;31m# Do not call functions when jit is used\u001b[0m\u001b[0;34m\u001b[0m\u001b[0;34m\u001b[0m\u001b[0;34m\u001b[0m\u001b[0m\n\u001b[1;32m   1132\u001b[0m         \u001b[0mfull_backward_hooks\u001b[0m\u001b[0;34m,\u001b[0m \u001b[0mnon_full_backward_hooks\u001b[0m \u001b[0;34m=\u001b[0m \u001b[0;34m[\u001b[0m\u001b[0;34m]\u001b[0m\u001b[0;34m,\u001b[0m \u001b[0;34m[\u001b[0m\u001b[0;34m]\u001b[0m\u001b[0;34m\u001b[0m\u001b[0;34m\u001b[0m\u001b[0m\n",
      "\u001b[0;32m~/miniconda3/envs/loc/lib/python3.7/site-packages/timm/models/resnet.py\u001b[0m in \u001b[0;36mforward\u001b[0;34m(self, x)\u001b[0m\n\u001b[1;32m    335\u001b[0m         \u001b[0;32mif\u001b[0m \u001b[0mself\u001b[0m\u001b[0;34m.\u001b[0m\u001b[0mdrop_block\u001b[0m \u001b[0;32mis\u001b[0m \u001b[0;32mnot\u001b[0m \u001b[0;32mNone\u001b[0m\u001b[0;34m:\u001b[0m\u001b[0;34m\u001b[0m\u001b[0;34m\u001b[0m\u001b[0m\n\u001b[1;32m    336\u001b[0m             \u001b[0mx\u001b[0m \u001b[0;34m=\u001b[0m \u001b[0mself\u001b[0m\u001b[0;34m.\u001b[0m\u001b[0mdrop_block\u001b[0m\u001b[0;34m(\u001b[0m\u001b[0mx\u001b[0m\u001b[0;34m)\u001b[0m\u001b[0;34m\u001b[0m\u001b[0;34m\u001b[0m\u001b[0m\n\u001b[0;32m--> 337\u001b[0;31m         \u001b[0mx\u001b[0m \u001b[0;34m=\u001b[0m \u001b[0mself\u001b[0m\u001b[0;34m.\u001b[0m\u001b[0mact1\u001b[0m\u001b[0;34m(\u001b[0m\u001b[0mx\u001b[0m\u001b[0;34m)\u001b[0m\u001b[0;34m\u001b[0m\u001b[0;34m\u001b[0m\u001b[0m\n\u001b[0m\u001b[1;32m    338\u001b[0m         \u001b[0;32mif\u001b[0m \u001b[0mself\u001b[0m\u001b[0;34m.\u001b[0m\u001b[0maa\u001b[0m \u001b[0;32mis\u001b[0m \u001b[0;32mnot\u001b[0m \u001b[0;32mNone\u001b[0m\u001b[0;34m:\u001b[0m\u001b[0;34m\u001b[0m\u001b[0;34m\u001b[0m\u001b[0m\n\u001b[1;32m    339\u001b[0m             \u001b[0mx\u001b[0m \u001b[0;34m=\u001b[0m \u001b[0mself\u001b[0m\u001b[0;34m.\u001b[0m\u001b[0maa\u001b[0m\u001b[0;34m(\u001b[0m\u001b[0mx\u001b[0m\u001b[0;34m)\u001b[0m\u001b[0;34m\u001b[0m\u001b[0;34m\u001b[0m\u001b[0m\n",
      "\u001b[0;32m~/miniconda3/envs/loc/lib/python3.7/site-packages/torch/nn/modules/module.py\u001b[0m in \u001b[0;36m_call_impl\u001b[0;34m(self, *input, **kwargs)\u001b[0m\n\u001b[1;32m   1128\u001b[0m         if not (self._backward_hooks or self._forward_hooks or self._forward_pre_hooks or _global_backward_hooks\n\u001b[1;32m   1129\u001b[0m                 or _global_forward_hooks or _global_forward_pre_hooks):\n\u001b[0;32m-> 1130\u001b[0;31m             \u001b[0;32mreturn\u001b[0m \u001b[0mforward_call\u001b[0m\u001b[0;34m(\u001b[0m\u001b[0;34m*\u001b[0m\u001b[0minput\u001b[0m\u001b[0;34m,\u001b[0m \u001b[0;34m**\u001b[0m\u001b[0mkwargs\u001b[0m\u001b[0;34m)\u001b[0m\u001b[0;34m\u001b[0m\u001b[0;34m\u001b[0m\u001b[0m\n\u001b[0m\u001b[1;32m   1131\u001b[0m         \u001b[0;31m# Do not call functions when jit is used\u001b[0m\u001b[0;34m\u001b[0m\u001b[0;34m\u001b[0m\u001b[0;34m\u001b[0m\u001b[0m\n\u001b[1;32m   1132\u001b[0m         \u001b[0mfull_backward_hooks\u001b[0m\u001b[0;34m,\u001b[0m \u001b[0mnon_full_backward_hooks\u001b[0m \u001b[0;34m=\u001b[0m \u001b[0;34m[\u001b[0m\u001b[0;34m]\u001b[0m\u001b[0;34m,\u001b[0m \u001b[0;34m[\u001b[0m\u001b[0;34m]\u001b[0m\u001b[0;34m\u001b[0m\u001b[0;34m\u001b[0m\u001b[0m\n",
      "\u001b[0;32m~/miniconda3/envs/loc/lib/python3.7/site-packages/torch/nn/modules/activation.py\u001b[0m in \u001b[0;36mforward\u001b[0;34m(self, input)\u001b[0m\n\u001b[1;32m     96\u001b[0m \u001b[0;34m\u001b[0m\u001b[0m\n\u001b[1;32m     97\u001b[0m     \u001b[0;32mdef\u001b[0m \u001b[0mforward\u001b[0m\u001b[0;34m(\u001b[0m\u001b[0mself\u001b[0m\u001b[0;34m,\u001b[0m \u001b[0minput\u001b[0m\u001b[0;34m:\u001b[0m \u001b[0mTensor\u001b[0m\u001b[0;34m)\u001b[0m \u001b[0;34m->\u001b[0m \u001b[0mTensor\u001b[0m\u001b[0;34m:\u001b[0m\u001b[0;34m\u001b[0m\u001b[0;34m\u001b[0m\u001b[0m\n\u001b[0;32m---> 98\u001b[0;31m         \u001b[0;32mreturn\u001b[0m \u001b[0mF\u001b[0m\u001b[0;34m.\u001b[0m\u001b[0mrelu\u001b[0m\u001b[0;34m(\u001b[0m\u001b[0minput\u001b[0m\u001b[0;34m,\u001b[0m \u001b[0minplace\u001b[0m\u001b[0;34m=\u001b[0m\u001b[0mself\u001b[0m\u001b[0;34m.\u001b[0m\u001b[0minplace\u001b[0m\u001b[0;34m)\u001b[0m\u001b[0;34m\u001b[0m\u001b[0;34m\u001b[0m\u001b[0m\n\u001b[0m\u001b[1;32m     99\u001b[0m \u001b[0;34m\u001b[0m\u001b[0m\n\u001b[1;32m    100\u001b[0m     \u001b[0;32mdef\u001b[0m \u001b[0mextra_repr\u001b[0m\u001b[0;34m(\u001b[0m\u001b[0mself\u001b[0m\u001b[0;34m)\u001b[0m \u001b[0;34m->\u001b[0m \u001b[0mstr\u001b[0m\u001b[0;34m:\u001b[0m\u001b[0;34m\u001b[0m\u001b[0;34m\u001b[0m\u001b[0m\n",
      "\u001b[0;32m~/miniconda3/envs/loc/lib/python3.7/site-packages/torch/nn/functional.py\u001b[0m in \u001b[0;36mrelu\u001b[0;34m(input, inplace)\u001b[0m\n\u001b[1;32m   1453\u001b[0m         \u001b[0;32mreturn\u001b[0m \u001b[0mhandle_torch_function\u001b[0m\u001b[0;34m(\u001b[0m\u001b[0mrelu\u001b[0m\u001b[0;34m,\u001b[0m \u001b[0;34m(\u001b[0m\u001b[0minput\u001b[0m\u001b[0;34m,\u001b[0m\u001b[0;34m)\u001b[0m\u001b[0;34m,\u001b[0m \u001b[0minput\u001b[0m\u001b[0;34m,\u001b[0m \u001b[0minplace\u001b[0m\u001b[0;34m=\u001b[0m\u001b[0minplace\u001b[0m\u001b[0;34m)\u001b[0m\u001b[0;34m\u001b[0m\u001b[0;34m\u001b[0m\u001b[0m\n\u001b[1;32m   1454\u001b[0m     \u001b[0;32mif\u001b[0m \u001b[0minplace\u001b[0m\u001b[0;34m:\u001b[0m\u001b[0;34m\u001b[0m\u001b[0;34m\u001b[0m\u001b[0m\n\u001b[0;32m-> 1455\u001b[0;31m         \u001b[0mresult\u001b[0m \u001b[0;34m=\u001b[0m \u001b[0mtorch\u001b[0m\u001b[0;34m.\u001b[0m\u001b[0mrelu_\u001b[0m\u001b[0;34m(\u001b[0m\u001b[0minput\u001b[0m\u001b[0;34m)\u001b[0m\u001b[0;34m\u001b[0m\u001b[0;34m\u001b[0m\u001b[0m\n\u001b[0m\u001b[1;32m   1456\u001b[0m     \u001b[0;32melse\u001b[0m\u001b[0;34m:\u001b[0m\u001b[0;34m\u001b[0m\u001b[0;34m\u001b[0m\u001b[0m\n\u001b[1;32m   1457\u001b[0m         \u001b[0mresult\u001b[0m \u001b[0;34m=\u001b[0m \u001b[0mtorch\u001b[0m\u001b[0;34m.\u001b[0m\u001b[0mrelu\u001b[0m\u001b[0;34m(\u001b[0m\u001b[0minput\u001b[0m\u001b[0;34m)\u001b[0m\u001b[0;34m\u001b[0m\u001b[0;34m\u001b[0m\u001b[0m\n",
      "\u001b[0;31mKeyboardInterrupt\u001b[0m: "
     ]
    }
   ],
   "source": [
    "# Initialize multi-processing\n",
    "rank, world_size = 0, 1\n",
    "device = torch.device(0)\n",
    "\n",
    "# Set device\n",
    "torch.cuda.set_device(device)\n",
    "\n",
    "# Set seed\n",
    "torch.manual_seed(0)\n",
    "torch.cuda.manual_seed_all(0)\n",
    "np.random.seed(0)\n",
    "    \n",
    "# Load configuration\n",
    "cfg = make_config(config_path=params.config_path, \n",
    "                  defauls=DEFAULT_CONFIGS[\"empty\"],\n",
    "                  logger=logger)\n",
    "\n",
    "# Experiment Path, from cfg\n",
    "exp_dir = create_experiment_file(params.directory, extension=\"search_timm_model\", logger=logger)\n",
    "\n",
    "# Initialize logging\n",
    "logger.info(\"\\n%s\", config_to_string(cfg))\n",
    "\n",
    "\n",
    "# Load data\n",
    "train_dl, _ = make_dataloader(params, cfg, rank, world_size,\n",
    "                                          logger=logger)\n",
    "    \n",
    "# Sample data \n",
    "sample_dl =  get_data_sample(cfg, train_dl, logger=logger)\n",
    "\n",
    "\n",
    "# Get timm models list\n",
    "timm_model_list = timm.list_models(pretrained=True, filter=params.models_family+\"*\")\n",
    "logger.info(\"%s %s model found \", len(timm_model_list), params.models_family)\n",
    "    \n",
    "# CSV file \n",
    "fileds = ['Model', 'Dim', 'E', 'M', 'H',]\n",
    "    \n",
    "with open(\"search_timm_models_\" + params.models_family +\".csv\", 'w') as file:\n",
    "    writer = csv.DictWriter(file, fieldnames=fileds)\n",
    "    writer.writeheader()\n",
    "        \n",
    "    for model_name in timm_model_list:\n",
    "            \n",
    "        # parse params with default values\n",
    "        body_cfg     = cfg[\"body\"]\n",
    "        global_cfg   = cfg[\"global\"]\n",
    "            \n",
    "        body_cfg[\"arch\"]              = model_name\n",
    "        body_cfg[\"features_scales\"]   = str([1, 2, 3, 4])\n",
    "\n",
    "            \n",
    "        # Create backbone            \n",
    "        logger.info(\"Creating backbone model: %s  with features_scales: %s\",  model_name,\n",
    "                                                                                str(body_cfg[\"features_scales\"]))\n",
    "            \n",
    "        # Load model state dictionary\n",
    "        body = timm.create_model(model_name, \n",
    "                                    features_only=True, \n",
    "                                    out_indices=body_cfg.getstruct(\"features_scales\"), \n",
    "                                    pretrained=True,\n",
    "                                    )\n",
    "            \n",
    "        body_channels           = body.feature_info.channels()\n",
    "        body_reductions         = body.feature_info.reduction()\n",
    "        body_module_names       = body.feature_info.module_name()\n",
    "            \n",
    "        logger.debug(\"Body channels: %s    Reductions: %s      Layer_names: %s\",   body_channels, \n",
    "                                                                                    body_reductions,\n",
    "                                                                                    body_module_names)\n",
    "            \n",
    "        # model redunction\n",
    "        body_dim = body_channels[-1]\n",
    "        if global_cfg.getboolean(\"reduction\"):\n",
    "            out_dim = global_cfg.getint(\"global_dim\")\n",
    "        else:\n",
    "            out_dim =  body_dim \n",
    "            \n",
    "        # Head\n",
    "        global_head = globalHead(   inp_dim=body_dim,\n",
    "                                        global_dim=out_dim,\n",
    "                                        local_dim=128,\n",
    "                                        \n",
    "                                        pooling=global_cfg.getstruct(\"pooling\"),\n",
    "                                        do_withening=global_cfg.getboolean(\"whithening\"),\n",
    "                                        layer=global_cfg.get(\"type\"),\n",
    "                                        )\n",
    "        # freeze head \n",
    "        if global_cfg.getboolean(\"freeze_whiten\"):\n",
    "            logger.debug(\"Freeze withening  paramters\")\n",
    "            for p in global_head.whiten.parameters():\n",
    "                p.requires_grad = False\n",
    "                \n",
    "            for p in global_head.local_whiten.parameters():\n",
    "                p.requires_grad = False\n",
    "            \n",
    "        # Create a generic image retrieval network\n",
    "        model = ImageRetrievalNet(body, global_head)  \n",
    "            \n",
    "            \n",
    "        # Compute PCA\n",
    "        compute_PCA_layer(model, sample_dl, params, cfg,\n",
    "                              device=device, \n",
    "                              logger=logger)\n",
    "                \n",
    "            # # Load model, and init PCA layer\n",
    "            # model, out_dim = make_model(args, config, train_dataloader, \n",
    "            #                                 rank=rank, \n",
    "            #                                 world_size=world_size, \n",
    "            #                                 device=device,\n",
    "            #                                 log_debug=log_debug,\n",
    "            #                                 log_info=log_info)\n",
    "\n",
    "        # Init GPU stuff\n",
    "        model = model.cuda(device)\n",
    "            \n",
    "        # Eval\n",
    "        logger.info(\"Evaluate model { %s }\" , model_name)\n",
    "\n",
    "        scores , _ = test(params, cfg, model, \n",
    "                            train_imgs=train_dl.dataset.images,\n",
    "                            rank=rank, \n",
    "                            world_size=world_size,\n",
    "                            out_dim=out_dim,\n",
    "                            device=device,\n",
    "                            logger=logger)\n",
    "\n",
    "\n",
    "        scores[\"Model\"] = model_name\n",
    "        scores[\"Dim\"]   = out_dim\n",
    "            \n",
    "        # Write to csv\n",
    "        writer.writerow(scores)\n",
    "    \n",
    "logger.info(\"Evaluation Done ..... \")"
   ]
  }
 ],
 "metadata": {
  "kernelspec": {
   "display_name": "Python 3.7.13 ('loc')",
   "language": "python",
   "name": "python3"
  },
  "language_info": {
   "codemirror_mode": {
    "name": "ipython",
    "version": 3
   },
   "file_extension": ".py",
   "mimetype": "text/x-python",
   "name": "python",
   "nbconvert_exporter": "python",
   "pygments_lexer": "ipython3",
   "version": "3.7.13"
  },
  "orig_nbformat": 4,
  "vscode": {
   "interpreter": {
    "hash": "b048a05d459fe7d0888a176c2840cc575cddcde9c64559a6a9f37578bd1661c3"
   }
  }
 },
 "nbformat": 4,
 "nbformat_minor": 2
}
